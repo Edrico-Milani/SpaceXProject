{
 "cells": [
  {
   "cell_type": "code",
   "execution_count": 1,
   "metadata": {},
   "outputs": [],
   "source": [
    "# Import required libraries\n",
    "import wget\n",
    "import dash\n",
    "from dash import dcc\n",
    "from dash import html\n",
    "from dash.dependencies import Input, Output\n",
    "import pandas as pd\n",
    "import plotly.graph_objects as go\n",
    "import plotly.express as px"
   ]
  },
  {
   "cell_type": "code",
   "execution_count": 2,
   "metadata": {},
   "outputs": [],
   "source": [
    "#Downloading the skeleton version of the dash app\n",
    "#wget.download(\"https://cf-courses-data.s3.us.cloud-object-storage.appdomain.cloud/IBM-DS0321EN-SkillsNetwork/labs/module_3/spacex_dash_app.py\")"
   ]
  },
  {
   "cell_type": "code",
   "execution_count": 3,
   "metadata": {},
   "outputs": [],
   "source": [
    "# Downloading the dataset\n",
    "#wget.download(\"https://cf-courses-data.s3.us.cloud-object-storage.appdomain.cloud/IBM-DS0321EN-SkillsNetwork/datasets/spacex_launch_dash.csv\")"
   ]
  },
  {
   "cell_type": "code",
   "execution_count": 4,
   "metadata": {},
   "outputs": [],
   "source": [
    "# Read the airline data into pandas dataframe\n",
    "spacex_df = pd.read_csv(\"Datasets/spacex_launch_dash.csv\")\n",
    "max_payload = spacex_df['Payload Mass (kg)'].max()\n",
    "min_payload = spacex_df['Payload Mass (kg)'].min()"
   ]
  },
  {
   "cell_type": "code",
   "execution_count": 5,
   "metadata": {},
   "outputs": [
    {
     "data": {
      "text/plain": [
       "array(['CCAFS LC-40', 'VAFB SLC-4E', 'KSC LC-39A', 'CCAFS SLC-40'],\n",
       "      dtype=object)"
      ]
     },
     "execution_count": 5,
     "metadata": {},
     "output_type": "execute_result"
    }
   ],
   "source": [
    "spacex_df['Launch Site'].unique()"
   ]
  },
  {
   "cell_type": "code",
   "execution_count": 6,
   "metadata": {},
   "outputs": [
    {
     "data": {
      "text/html": [
       "<div>\n",
       "<style scoped>\n",
       "    .dataframe tbody tr th:only-of-type {\n",
       "        vertical-align: middle;\n",
       "    }\n",
       "\n",
       "    .dataframe tbody tr th {\n",
       "        vertical-align: top;\n",
       "    }\n",
       "\n",
       "    .dataframe thead th {\n",
       "        text-align: right;\n",
       "    }\n",
       "</style>\n",
       "<table border=\"1\" class=\"dataframe\">\n",
       "  <thead>\n",
       "    <tr style=\"text-align: right;\">\n",
       "      <th></th>\n",
       "      <th>Unnamed: 0</th>\n",
       "      <th>Flight Number</th>\n",
       "      <th>Launch Site</th>\n",
       "      <th>class</th>\n",
       "      <th>Payload Mass (kg)</th>\n",
       "      <th>Booster Version</th>\n",
       "      <th>Booster Version Category</th>\n",
       "    </tr>\n",
       "  </thead>\n",
       "  <tbody>\n",
       "    <tr>\n",
       "      <th>0</th>\n",
       "      <td>0</td>\n",
       "      <td>1</td>\n",
       "      <td>CCAFS LC-40</td>\n",
       "      <td>0</td>\n",
       "      <td>0.0</td>\n",
       "      <td>F9 v1.0  B0003</td>\n",
       "      <td>v1.0</td>\n",
       "    </tr>\n",
       "    <tr>\n",
       "      <th>1</th>\n",
       "      <td>1</td>\n",
       "      <td>2</td>\n",
       "      <td>CCAFS LC-40</td>\n",
       "      <td>0</td>\n",
       "      <td>0.0</td>\n",
       "      <td>F9 v1.0  B0004</td>\n",
       "      <td>v1.0</td>\n",
       "    </tr>\n",
       "    <tr>\n",
       "      <th>2</th>\n",
       "      <td>2</td>\n",
       "      <td>3</td>\n",
       "      <td>CCAFS LC-40</td>\n",
       "      <td>0</td>\n",
       "      <td>525.0</td>\n",
       "      <td>F9 v1.0  B0005</td>\n",
       "      <td>v1.0</td>\n",
       "    </tr>\n",
       "    <tr>\n",
       "      <th>3</th>\n",
       "      <td>3</td>\n",
       "      <td>4</td>\n",
       "      <td>CCAFS LC-40</td>\n",
       "      <td>0</td>\n",
       "      <td>500.0</td>\n",
       "      <td>F9 v1.0  B0006</td>\n",
       "      <td>v1.0</td>\n",
       "    </tr>\n",
       "    <tr>\n",
       "      <th>4</th>\n",
       "      <td>4</td>\n",
       "      <td>5</td>\n",
       "      <td>CCAFS LC-40</td>\n",
       "      <td>0</td>\n",
       "      <td>677.0</td>\n",
       "      <td>F9 v1.0  B0007</td>\n",
       "      <td>v1.0</td>\n",
       "    </tr>\n",
       "  </tbody>\n",
       "</table>\n",
       "</div>"
      ],
      "text/plain": [
       "   Unnamed: 0  Flight Number  Launch Site  class  Payload Mass (kg)  \\\n",
       "0           0              1  CCAFS LC-40      0                0.0   \n",
       "1           1              2  CCAFS LC-40      0                0.0   \n",
       "2           2              3  CCAFS LC-40      0              525.0   \n",
       "3           3              4  CCAFS LC-40      0              500.0   \n",
       "4           4              5  CCAFS LC-40      0              677.0   \n",
       "\n",
       "  Booster Version Booster Version Category  \n",
       "0  F9 v1.0  B0003                     v1.0  \n",
       "1  F9 v1.0  B0004                     v1.0  \n",
       "2  F9 v1.0  B0005                     v1.0  \n",
       "3  F9 v1.0  B0006                     v1.0  \n",
       "4  F9 v1.0  B0007                     v1.0  "
      ]
     },
     "execution_count": 6,
     "metadata": {},
     "output_type": "execute_result"
    }
   ],
   "source": [
    "spacex_df.head()"
   ]
  },
  {
   "cell_type": "code",
   "execution_count": 7,
   "metadata": {},
   "outputs": [
    {
     "data": {
      "text/html": [
       "\n",
       "        <iframe\n",
       "            width=\"100%\"\n",
       "            height=\"650\"\n",
       "            src=\"http://127.0.0.1:8050/\"\n",
       "            frameborder=\"0\"\n",
       "            allowfullscreen\n",
       "            \n",
       "        ></iframe>\n",
       "        "
      ],
      "text/plain": [
       "<IPython.lib.display.IFrame at 0x241a7ec1ac0>"
      ]
     },
     "metadata": {},
     "output_type": "display_data"
    }
   ],
   "source": [
    "# Create a dash application\n",
    "app = dash.Dash(__name__)\n",
    "\n",
    "# Create an app layout\n",
    "app.layout = html.Div(children=[html.H1('SpaceX Launch Record Dashboard',\n",
    "                                        style={'textAlign': 'center', 'color': '#503D36', 'text-transform': 'uppercase', 'font-family': 'Helvetica',\n",
    "                                               'font-size': 40, 'font-style': 'bold', 'padding': '.1em 3em 0em 3em', 'background-color' : 'white'}),\n",
    "                                # TASK 1: Add a dropdown list to enable Launch Site selection\n",
    "                                # The default select value is for ALL sites\n",
    "                                dcc.Dropdown(id='site-dropdown', \n",
    "                                             options=[{'label': 'All Sites', 'value': 'ALL'},\n",
    "                                                      {'label': 'CCAFS LC-40', 'value': 'CCAFS LC-40'},\n",
    "                                                      {'label': 'VAFB SLC-4E', 'value': 'VAFB SLC-4E'},\n",
    "                                                      {'label': 'KSC LC-39A', 'value': 'KSC LC-39A'},\n",
    "                                                      {'label': 'CCAFS SLC-40', 'value': 'CCAFS SLC-40'}],\n",
    "                                            value = 'Selected Launch Site',\n",
    "                                             placeholder= 'Select Launch Site',\n",
    "                                             searchable = True,\n",
    "                                             style={'textAlign': 'left', 'color': 'black',\n",
    "                                               'font-size': 20, 'font-': 'bold', 'width': '50%', 'padding': '0em 2em 0em .2em', 'background-color' : 'white', \n",
    "                                               'font-family': 'Helvetica', 'text-decoration': 'bold', 'text-transform': 'uppercase'}),\n",
    "\n",
    "                                # TASK 2: Add a pie chart to show the total successful launches count for all sites\n",
    "                                # If a specific launch site was selected, show the Success vs. Failed counts for the site\n",
    "                                html.Div(dcc.Graph(id='success-pie-chart'), style={'color': '#503D36', 'text-transform': 'uppercase',\n",
    "                                               'font-size': 20, 'text-decoration': 'bold', 'padding': '0em 2em 0em 2em', 'background-color' : 'white'}),\n",
    "\n",
    "                                html.P(\"Payload range (Kg):\", style={'textAlign': 'left', 'color': 'black', 'border': 'none',\n",
    "                                               'font-size': 20, 'font-style': 'bold', 'padding': '0em 8em 0em 0em', 'background-color' : 'white', \n",
    "                                               'font-family': 'Helvetica'}),\n",
    "                                # TASK 3: Add a slider to select payload range\n",
    "                                dcc.RangeSlider(id='payload-slider', min=0, max=10000, step= 1000,\n",
    "                                                marks={0: '0', 500: '500', 1000: '1000', 1500: '1500', 2000: '2000', 2500: '2500', 3000: '3000', 3500: '3500', 4000: '4000', 4500: '4500', 5000: '5000', \n",
    "                                                       5500: '5500', 6000: '6000', 6500: '6500', 7000: '7000', 7500: '7500', 8000: '8000', 8500: '8500', 9000: '9000', 9500: '9500', 10000: '10000'}, \n",
    "                                                value= [min_payload, max_payload]),\n",
    "\n",
    "                                # TASK 4: Add a scatter chart to show the correlation between payload and launch success\n",
    "                                html.Div(dcc.Graph(id='success-payload-scatter-chart'),  style={'color': '#503D36', 'text-transform': 'uppercase',\n",
    "                                               'font-size': 20, 'text-decoration': 'bold', 'padding': '0em 2em 0em 2em', 'background-color' : 'white'}),\n",
    "                                ], style={'color': '#503D36', 'text-transform': 'uppercase',\n",
    "                                               'font-size': 25, 'text-decoration': 'bold', 'padding': '0em 5em', 'background-color' : 'white'})\n",
    "\n",
    "# TASK 2:\n",
    "# Add a callback function for `site-dropdown` as input, `success-pie-chart` as output\n",
    "@app.callback(Output(component_id='success-pie-chart', component_property='figure'),\n",
    "              Input(component_id='site-dropdown', component_property='value')\n",
    "              )\n",
    "def get_pie_chart(site_input):\n",
    "    filtered_df = spacex_df\n",
    "    if (site_input == 'ALL'):\n",
    "        fig = px.pie(filtered_df, values='class',\n",
    "                     names='Launch Site',\n",
    "                     title='Total Success Launches By All Sites')\n",
    "        return fig\n",
    "    else:\n",
    "        fig = px.pie(filtered_df, values=filtered_df['class'],\n",
    "                    names=filtered_df['Launch Site'] == site_input,\n",
    "                    title= 'Total Successful Launches For Site ' + site_input)\n",
    "        return fig\n",
    "    \n",
    "@app.callback(Output(component_id='success-payload-scatter-chart', component_property='figure'),\n",
    "              Input(component_id='site-dropdown', component_property='value'),\n",
    "              Input(component_id='payload-slider', component_property='value'))\n",
    "def get_scatter_chart(site_input, payload_slider):\n",
    "    unfiltered_df = spacex_df\n",
    "    low, high = payload_slider\n",
    "    mask = (unfiltered_df['Payload Mass (kg)'] > low) & (unfiltered_df['Payload Mass (kg)'] < high)\n",
    "    if (site_input == 'ALL'):\n",
    "        fig = px.scatter(data_frame=unfiltered_df[mask], x='Payload Mass (kg)', y='class',\n",
    "                         size='Payload Mass (kg)', hover_data='Payload Mass (kg)', color='Booster Version Category',\n",
    "                     title='Relationship Between Payload Mass (kg) And Successful Launches For By All Sites')\n",
    "        return fig\n",
    "    else:\n",
    "        filtered_df = spacex_df.loc[spacex_df['Launch Site'] == site_input]\n",
    "        fig = px.scatter(data_frame=filtered_df, x='Payload Mass (kg)', y='class', color='Booster Version Category', \n",
    "                         size='Payload Mass (kg)', hover_data='Payload Mass (kg)', \n",
    "                         title= 'Relationship Between Payload Mass (kg) & Successful Launches For Site ' + site_input)\n",
    "        return fig\n",
    "        \n",
    "\n",
    "# TASK 4:\n",
    "# Add a callback function for `site-dropdown` and `payload-slider` as inputs, `success-payload-scatter-chart` as output\n",
    "\n",
    "\n",
    "# Run the app\n",
    "if __name__ == '__main__':\n",
    "    app.run_server()\n"
   ]
  },
  {
   "cell_type": "code",
   "execution_count": null,
   "id": "3fa46d57-df59-47d8-9572-0ee238d81fcf",
   "metadata": {},
   "outputs": [],
   "source": []
  },
  {
   "cell_type": "code",
   "execution_count": null,
   "metadata": {},
   "outputs": [],
   "source": []
  }
 ],
 "metadata": {
  "kernelspec": {
   "display_name": "Python 3.12.2 64-bit (microsoft store)",
   "language": "python",
   "name": "python3"
  },
  "language_info": {
   "codemirror_mode": {
    "name": "ipython",
    "version": 3
   },
   "file_extension": ".py",
   "mimetype": "text/x-python",
   "name": "python",
   "nbconvert_exporter": "python",
   "pygments_lexer": "ipython3",
   "version": "3.12.2"
  },
  "orig_nbformat": 4,
  "vscode": {
   "interpreter": {
    "hash": "075bb349769f8834589b3c0e4f3d7ddebd84886b2112528c24469a8283913c95"
   }
  }
 },
 "nbformat": 4,
 "nbformat_minor": 2
}
